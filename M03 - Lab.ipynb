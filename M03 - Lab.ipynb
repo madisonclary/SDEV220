{
 "cells": [
  {
   "cell_type": "code",
   "execution_count": null,
   "id": "4b74d3d5-1092-40be-be08-746240367dca",
   "metadata": {},
   "outputs": [],
   "source": [
    "# super class\n",
    "class Vehicle:\n",
    "    def __init__(self, vehicle_type):\n",
    "        self.vehicle_type = vehicle_type\n",
    "\n",
    "\n",
    "# child class\n",
    "class Automobile(Vehicle):\n",
    "    def __init__(self, vehicle_type, year, make, model, doors, roof):\n",
    "        Vehicle.__init__(self, vehicle_type)\n",
    "        self.year = year\n",
    "        self.make = make\n",
    "        self.model = model\n",
    "        self.doors = doors\n",
    "        self.roof = roof\n",
    "\n",
    "    def __str__(self):\n",
    "        return \"Vehicle type: \" + self.vehicle_type + \"\\nYear: \" + self.year + \"\\nMake: \" + self.make + \"\\nModel: \" + self.model + \"\\nNumber of doors: \" + self.doors + \"\\nType of roof: \" + self.roof\n",
    "\n",
    "\n",
    "if __name__ == \"__main__\":\n",
    "\n",
    "    year = input(\"Enter year: \")\n",
    "    make = input(\"Enter make: \")\n",
    "    model = input(\"Enter model: \")\n",
    "    doors = input(\"Enter number of doors: \")\n",
    "    roof = input(\"Enter type of roof: \")\n",
    "    # create an object of Vehicle type as car\n",
    "    carObj = Automobile(\"car\", year, make, model, doors, roof)\n",
    "    # print details\n",
    "    print(\"Entered details are =>\")\n",
    "    print(carObj)"
   ]
  }
 ],
 "metadata": {
  "kernelspec": {
   "display_name": "anaconda-2022.05-py39",
   "language": "python",
   "name": "conda-env-anaconda-2022.05-py39-py"
  },
  "language_info": {
   "codemirror_mode": {
    "name": "ipython",
    "version": 3
   },
   "file_extension": ".py",
   "mimetype": "text/x-python",
   "name": "python",
   "nbconvert_exporter": "python",
   "pygments_lexer": "ipython3",
   "version": "3.9.12"
  }
 },
 "nbformat": 4,
 "nbformat_minor": 5
}
