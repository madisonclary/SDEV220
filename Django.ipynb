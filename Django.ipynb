{
 "cells": [
  {
   "cell_type": "code",
   "execution_count": 6,
   "id": "7da6459f-0b88-4fc0-a7a2-064ca6559509",
   "metadata": {},
   "outputs": [
    {
     "ename": "SyntaxError",
     "evalue": "invalid syntax (794346034.py, line 28)",
     "output_type": "error",
     "traceback": [
      "\u001b[0;36m  Input \u001b[0;32mIn [6]\u001b[0;36m\u001b[0m\n\u001b[0;31m    (myvenv) djangogirls$ python manage.py createsuperuser\u001b[0m\n\u001b[0m             ^\u001b[0m\n\u001b[0;31mSyntaxError\u001b[0m\u001b[0;31m:\u001b[0m invalid syntax\n"
     ]
    }
   ],
   "source": [
    "import os\n",
    "\n",
    "from django.core.asgi import get_asgi_application\n",
    "\n",
    "os.environ.setdefault('DJANGO_SETTINGS_MODULE', 'mysite.settings')\n",
    "\n",
    "application = get_asgi_application()\n",
    "\n",
    "from django.conf import settings\n",
    "from django.db import models\n",
    "from django.utils import timezone\n",
    "\n",
    "\n",
    "class Post(models.Model):\n",
    "    author = models.ForeignKey(settings.AUTH_USER_MODEL, on_delete=models.CASCADE)\n",
    "    title = models.CharField(max_length=200)\n",
    "    text = models.TextField()\n",
    "    created_date = models.DateTimeField(default=timezone.now)\n",
    "    published_date = models.DateTimeField(blank=True, null=True)\n",
    "\n",
    "    def publish(self):\n",
    "        self.published_date = timezone.now()\n",
    "        self.save()\n",
    "\n",
    "    def __str__(self):\n",
    "        return self.title\n",
    "\n",
    "(myvenv) djangogirls$ python manage.py createsuperuser"
   ]
  },
  {
   "cell_type": "code",
   "execution_count": null,
   "id": "efdff99d-e886-4274-a4e0-493400b7d55d",
   "metadata": {},
   "outputs": [],
   "source": []
  }
 ],
 "metadata": {
  "kernelspec": {
   "display_name": "anaconda-2022.05-py39",
   "language": "python",
   "name": "conda-env-anaconda-2022.05-py39-py"
  },
  "language_info": {
   "codemirror_mode": {
    "name": "ipython",
    "version": 3
   },
   "file_extension": ".py",
   "mimetype": "text/x-python",
   "name": "python",
   "nbconvert_exporter": "python",
   "pygments_lexer": "ipython3",
   "version": "3.9.12"
  }
 },
 "nbformat": 4,
 "nbformat_minor": 5
}
